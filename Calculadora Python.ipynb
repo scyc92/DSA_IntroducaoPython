{
 "cells": [
  {
   "cell_type": "code",
   "execution_count": 67,
   "id": "4f3e6222",
   "metadata": {},
   "outputs": [
    {
     "name": "stdout",
     "output_type": "stream",
     "text": [
      "************** Python Calculator **************\n",
      "\n",
      "\n",
      "1. Soma\n",
      "2. Subtração\n",
      "3. Multiplicação\n",
      "4. Divisão\n",
      "\n",
      "Digite sua opção: 1\n",
      "\n",
      "Digite o primeiro número: 23\n",
      "Digite o segundo número: 225\n",
      "A soma dos números é: 23 + 225 = 248\n"
     ]
    }
   ],
   "source": [
    "print('************** Python Calculator **************')\n",
    "print()\n",
    "print()\n",
    "print('1. Soma')\n",
    "print('2. Subtração')\n",
    "print('3. Multiplicação')\n",
    "print('4. Divisão')\n",
    "print()\n",
    "opcao = input('Digite sua opção: ')\n",
    "print()\n",
    "\n",
    "if int(opcao) == 1:\n",
    "    num1 = input('Digite o primeiro número: ')\n",
    "    num2 = input('Digite o segundo número: ')\n",
    "    soma = int(num1)+int(num2)\n",
    "    print('A soma dos números é: ' + num1 + ' + ' + num2 + ' = ' + str(soma))\n",
    "    \n",
    "elif int(opcao) == 2:\n",
    "    num1 = input('Digite o primeiro número: ')\n",
    "    num2 = input('Digite o segundo número: ')\n",
    "    subt = int(num1)-int(num2)\n",
    "    print('A subtração dos números é: ' + num1 + ' - ' + num2 + ' = '  + str(subt))\n",
    "\n",
    "\n",
    "elif int(opcao) == 3:\n",
    "    num1 = input('Digite o primeiro número: ')\n",
    "    num2 = input('Digite o segundo número: ')\n",
    "    mult = int(num1)*int(num2)\n",
    "    print('A multiplicação dos números é: ' + num1 + ' * ' + num2 + ' = '  + str(mult))\n",
    "\n",
    "\n",
    "elif int(opcao) == 4:\n",
    "    num1 = input('Digite o primeiro número: ')\n",
    "    num2 = input('Digite o segundo número: ')\n",
    "    div = int(num1)/int(num2)\n",
    "    print('A divisão dos números é: ' + num1 + ' / ' + num2 + ' = '  + str(div))\n",
    "\n",
    "else:\n",
    "    print('Código Invalido')"
   ]
  },
  {
   "cell_type": "code",
   "execution_count": null,
   "id": "5eebbf0e",
   "metadata": {},
   "outputs": [],
   "source": []
  },
  {
   "cell_type": "code",
   "execution_count": null,
   "id": "b1397c27",
   "metadata": {},
   "outputs": [],
   "source": []
  }
 ],
 "metadata": {
  "kernelspec": {
   "display_name": "Python 3 (ipykernel)",
   "language": "python",
   "name": "python3"
  },
  "language_info": {
   "codemirror_mode": {
    "name": "ipython",
    "version": 3
   },
   "file_extension": ".py",
   "mimetype": "text/x-python",
   "name": "python",
   "nbconvert_exporter": "python",
   "pygments_lexer": "ipython3",
   "version": "3.9.5"
  }
 },
 "nbformat": 4,
 "nbformat_minor": 5
}
